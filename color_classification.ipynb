{
  "nbformat": 4,
  "nbformat_minor": 0,
  "metadata": {
    "colab": {
      "name": "zo3_color_classification.ipynb",
      "version": "0.3.2",
      "provenance": [],
      "collapsed_sections": []
    },
    "kernelspec": {
      "name": "python3",
      "display_name": "Python 3"
    }
  },
  "cells": [
    {
      "cell_type": "code",
      "metadata": {
        "id": "t5sL8BBTHB2B",
        "colab_type": "code",
        "colab": {}
      },
      "source": [
        "import pandas as pd\n",
        "import numpy as np\n",
        "from plotly.offline import init_notebook_mode, iplot\n",
        "from plotly import graph_objs as go"
      ],
      "execution_count": 0,
      "outputs": []
    },
    {
      "cell_type": "code",
      "metadata": {
        "id": "BtzhWuxMHKQk",
        "colab_type": "code",
        "colab": {}
      },
      "source": [
        "df = pd.read_csv('training_dataset.csv')"
      ],
      "execution_count": 0,
      "outputs": []
    },
    {
      "cell_type": "code",
      "metadata": {
        "id": "JlIbeAwYHNr6",
        "colab_type": "code",
        "outputId": "e1d4d817-51c2-4655-b1ec-54ef319081fe",
        "colab": {
          "base_uri": "https://localhost:8080/",
          "height": 221
        }
      },
      "source": [
        "df.head()"
      ],
      "execution_count": 4,
      "outputs": [
        {
          "output_type": "execute_result",
          "data": {
            "text/html": [
              "<div>\n",
              "<style scoped>\n",
              "    .dataframe tbody tr th:only-of-type {\n",
              "        vertical-align: middle;\n",
              "    }\n",
              "\n",
              "    .dataframe tbody tr th {\n",
              "        vertical-align: top;\n",
              "    }\n",
              "\n",
              "    .dataframe thead th {\n",
              "        text-align: right;\n",
              "    }\n",
              "</style>\n",
              "<table border=\"1\" class=\"dataframe\">\n",
              "  <thead>\n",
              "    <tr style=\"text-align: right;\">\n",
              "      <th></th>\n",
              "      <th>wine number</th>\n",
              "      <th>acidity type 1</th>\n",
              "      <th>acidity type 2</th>\n",
              "      <th>citric acid</th>\n",
              "      <th>residual sugar</th>\n",
              "      <th>chlorides</th>\n",
              "      <th>sulfur dioxide type 1</th>\n",
              "      <th>sulfur dioxide type 2</th>\n",
              "      <th>pH</th>\n",
              "      <th>sulphates</th>\n",
              "      <th>alcohol</th>\n",
              "      <th>density</th>\n",
              "      <th>color</th>\n",
              "      <th>quality</th>\n",
              "    </tr>\n",
              "  </thead>\n",
              "  <tbody>\n",
              "    <tr>\n",
              "      <th>0</th>\n",
              "      <td>1</td>\n",
              "      <td>5.8</td>\n",
              "      <td>0.13</td>\n",
              "      <td>0.22</td>\n",
              "      <td>12.7</td>\n",
              "      <td>0.058</td>\n",
              "      <td>24.0</td>\n",
              "      <td>183.0</td>\n",
              "      <td>3.32</td>\n",
              "      <td>0.42</td>\n",
              "      <td>11.7</td>\n",
              "      <td>0.99560</td>\n",
              "      <td>W</td>\n",
              "      <td>6</td>\n",
              "    </tr>\n",
              "    <tr>\n",
              "      <th>1</th>\n",
              "      <td>2</td>\n",
              "      <td>8.4</td>\n",
              "      <td>0.62</td>\n",
              "      <td>0.12</td>\n",
              "      <td>1.8</td>\n",
              "      <td>0.072</td>\n",
              "      <td>38.0</td>\n",
              "      <td>46.0</td>\n",
              "      <td>3.38</td>\n",
              "      <td>0.89</td>\n",
              "      <td>11.8</td>\n",
              "      <td>0.99504</td>\n",
              "      <td>R</td>\n",
              "      <td>6</td>\n",
              "    </tr>\n",
              "    <tr>\n",
              "      <th>2</th>\n",
              "      <td>3</td>\n",
              "      <td>6.6</td>\n",
              "      <td>0.26</td>\n",
              "      <td>0.38</td>\n",
              "      <td>6.5</td>\n",
              "      <td>0.170</td>\n",
              "      <td>68.0</td>\n",
              "      <td>201.0</td>\n",
              "      <td>3.19</td>\n",
              "      <td>0.38</td>\n",
              "      <td>9.4</td>\n",
              "      <td>0.99560</td>\n",
              "      <td>W</td>\n",
              "      <td>6</td>\n",
              "    </tr>\n",
              "    <tr>\n",
              "      <th>3</th>\n",
              "      <td>4</td>\n",
              "      <td>6.9</td>\n",
              "      <td>0.32</td>\n",
              "      <td>0.16</td>\n",
              "      <td>1.4</td>\n",
              "      <td>0.051</td>\n",
              "      <td>15.0</td>\n",
              "      <td>96.0</td>\n",
              "      <td>3.22</td>\n",
              "      <td>0.38</td>\n",
              "      <td>9.5</td>\n",
              "      <td>0.99400</td>\n",
              "      <td>W</td>\n",
              "      <td>4</td>\n",
              "    </tr>\n",
              "    <tr>\n",
              "      <th>4</th>\n",
              "      <td>5</td>\n",
              "      <td>6.5</td>\n",
              "      <td>0.41</td>\n",
              "      <td>0.64</td>\n",
              "      <td>11.8</td>\n",
              "      <td>0.065</td>\n",
              "      <td>65.0</td>\n",
              "      <td>225.0</td>\n",
              "      <td>3.12</td>\n",
              "      <td>0.51</td>\n",
              "      <td>8.9</td>\n",
              "      <td>0.99780</td>\n",
              "      <td>W</td>\n",
              "      <td>5</td>\n",
              "    </tr>\n",
              "  </tbody>\n",
              "</table>\n",
              "</div>"
            ],
            "text/plain": [
              "   wine number  acidity type 1  acidity type 2  ...  density  color  quality\n",
              "0            1             5.8            0.13  ...  0.99560      W        6\n",
              "1            2             8.4            0.62  ...  0.99504      R        6\n",
              "2            3             6.6            0.26  ...  0.99560      W        6\n",
              "3            4             6.9            0.32  ...  0.99400      W        4\n",
              "4            5             6.5            0.41  ...  0.99780      W        5\n",
              "\n",
              "[5 rows x 14 columns]"
            ]
          },
          "metadata": {
            "tags": []
          },
          "execution_count": 4
        }
      ]
    },
    {
      "cell_type": "code",
      "metadata": {
        "id": "tOIm_MXtHQdc",
        "colab_type": "code",
        "colab": {}
      },
      "source": [
        "explanatory_variables = ['acidity type 1', 'acidity type 2', 'citric acid', 'residual sugar', 'chlorides', 'sulfur dioxide type 1', 'sulfur dioxide type 2', 'pH', 'sulphates', 'alcohol']\n",
        "pred_vars = ['color']"
      ],
      "execution_count": 0,
      "outputs": []
    },
    {
      "cell_type": "code",
      "metadata": {
        "id": "jd9JfL4fHcfn",
        "colab_type": "code",
        "outputId": "7711061a-0642-4740-9e00-309906c890db",
        "colab": {
          "base_uri": "https://localhost:8080/",
          "height": 51
        }
      },
      "source": [
        "X = df[explanatory_variables].values\n",
        "y = df[pred_vars].values\n",
        "\n",
        "print(\"X.shape = \", X.shape)\n",
        "print(\"y.shape = \", y.shape)"
      ],
      "execution_count": 7,
      "outputs": [
        {
          "output_type": "stream",
          "text": [
            "X.shape =  (4150, 10)\n",
            "y.shape =  (4150, 1)\n"
          ],
          "name": "stdout"
        }
      ]
    },
    {
      "cell_type": "code",
      "metadata": {
        "id": "MAtAOQp7Hiu2",
        "colab_type": "code",
        "outputId": "14d54a20-0557-4761-c5f1-8222f4946dd0",
        "colab": {
          "base_uri": "https://localhost:8080/",
          "height": 85
        }
      },
      "source": [
        "from sklearn.model_selection import train_test_split\n",
        "\n",
        "seed = 42\n",
        "\n",
        "X_train, X_test, y_train, y_test = train_test_split(X, y, random_state = seed)\n",
        "\n",
        "\n",
        "print(\"X_train.shape = \", X_train.shape)\n",
        "print(\"y_train.shape = \", y_train.shape)\n",
        "print(\"X_test.shape = \", X_test.shape)\n",
        "print(\"y_test.shape = \", y_test.shape)"
      ],
      "execution_count": 8,
      "outputs": [
        {
          "output_type": "stream",
          "text": [
            "X_train.shape =  (3112, 10)\n",
            "y_train.shape =  (3112, 1)\n",
            "X_test.shape =  (1038, 10)\n",
            "y_test.shape =  (1038, 1)\n"
          ],
          "name": "stdout"
        }
      ]
    },
    {
      "cell_type": "code",
      "metadata": {
        "id": "w1a4XsDEHm5B",
        "colab_type": "code",
        "colab": {}
      },
      "source": [
        "from sklearn.ensemble import RandomForestClassifier"
      ],
      "execution_count": 0,
      "outputs": []
    },
    {
      "cell_type": "code",
      "metadata": {
        "id": "PtdnLJgqHtd4",
        "colab_type": "code",
        "colab": {}
      },
      "source": [
        "max_depth = 10\n",
        "n_estimators = 100\n",
        "\n",
        "classifier = RandomForestClassifier(n_estimators=n_estimators, max_depth=max_depth, n_jobs=-1, random_state=seed)"
      ],
      "execution_count": 0,
      "outputs": []
    },
    {
      "cell_type": "code",
      "metadata": {
        "id": "ptLVQJhzHyH3",
        "colab_type": "code",
        "outputId": "18f299c8-c614-42cf-d4f8-cb5b32d771d1",
        "colab": {
          "base_uri": "https://localhost:8080/",
          "height": 204
        }
      },
      "source": [
        "classifier.fit(X_train, y_train)"
      ],
      "execution_count": 11,
      "outputs": [
        {
          "output_type": "stream",
          "text": [
            "/usr/local/lib/python3.6/dist-packages/ipykernel_launcher.py:1: DataConversionWarning:\n",
            "\n",
            "A column-vector y was passed when a 1d array was expected. Please change the shape of y to (n_samples,), for example using ravel().\n",
            "\n"
          ],
          "name": "stderr"
        },
        {
          "output_type": "execute_result",
          "data": {
            "text/plain": [
              "RandomForestClassifier(bootstrap=True, class_weight=None, criterion='gini',\n",
              "                       max_depth=10, max_features='auto', max_leaf_nodes=None,\n",
              "                       min_impurity_decrease=0.0, min_impurity_split=None,\n",
              "                       min_samples_leaf=1, min_samples_split=2,\n",
              "                       min_weight_fraction_leaf=0.0, n_estimators=100,\n",
              "                       n_jobs=-1, oob_score=False, random_state=42, verbose=0,\n",
              "                       warm_start=False)"
            ]
          },
          "metadata": {
            "tags": []
          },
          "execution_count": 11
        }
      ]
    },
    {
      "cell_type": "code",
      "metadata": {
        "id": "ll9L8aSUH47b",
        "colab_type": "code",
        "colab": {}
      },
      "source": [
        "y_pred_train = classifier.predict(X_train)\n",
        "y_pred_test = classifier.predict(X_test)"
      ],
      "execution_count": 0,
      "outputs": []
    },
    {
      "cell_type": "code",
      "metadata": {
        "id": "FHnanBppIATI",
        "colab_type": "code",
        "colab": {}
      },
      "source": [
        "from sklearn.metrics import classification_report, confusion_matrix"
      ],
      "execution_count": 0,
      "outputs": []
    },
    {
      "cell_type": "code",
      "metadata": {
        "id": "3tN5VksOIHHL",
        "colab_type": "code",
        "colab": {}
      },
      "source": [
        "train_report = classification_report(y_true=y_train, y_pred = y_pred_train)\n",
        "test_report = classification_report(y_true=y_test, y_pred = y_pred_test)"
      ],
      "execution_count": 0,
      "outputs": []
    },
    {
      "cell_type": "code",
      "metadata": {
        "id": "U2fsyHcHITea",
        "colab_type": "code",
        "outputId": "b294bb98-8ecb-4cdd-d809-abaee7ebbe0b",
        "colab": {
          "base_uri": "https://localhost:8080/",
          "height": 170
        }
      },
      "source": [
        "print(train_report)"
      ],
      "execution_count": 15,
      "outputs": [
        {
          "output_type": "stream",
          "text": [
            "              precision    recall  f1-score   support\n",
            "\n",
            "           R       1.00      0.99      1.00       798\n",
            "           W       1.00      1.00      1.00      2314\n",
            "\n",
            "    accuracy                           1.00      3112\n",
            "   macro avg       1.00      1.00      1.00      3112\n",
            "weighted avg       1.00      1.00      1.00      3112\n",
            "\n"
          ],
          "name": "stdout"
        }
      ]
    },
    {
      "cell_type": "code",
      "metadata": {
        "id": "UcyplqdMIVOc",
        "colab_type": "code",
        "outputId": "bf8d6429-a5dd-465d-ce8e-ecfc8a72fc98",
        "colab": {
          "base_uri": "https://localhost:8080/",
          "height": 170
        }
      },
      "source": [
        "print(test_report)"
      ],
      "execution_count": 16,
      "outputs": [
        {
          "output_type": "stream",
          "text": [
            "              precision    recall  f1-score   support\n",
            "\n",
            "           R       0.99      0.96      0.97       234\n",
            "           W       0.99      1.00      0.99       804\n",
            "\n",
            "    accuracy                           0.99      1038\n",
            "   macro avg       0.99      0.98      0.98      1038\n",
            "weighted avg       0.99      0.99      0.99      1038\n",
            "\n"
          ],
          "name": "stdout"
        }
      ]
    },
    {
      "cell_type": "code",
      "metadata": {
        "id": "rAfaSc4LIZD4",
        "colab_type": "code",
        "outputId": "ee2b43f5-c238-4a63-c725-501e1188d67e",
        "colab": {
          "base_uri": "https://localhost:8080/",
          "height": 51
        }
      },
      "source": [
        "confusion_matrix(y_true=y_train, y_pred = y_pred_train)"
      ],
      "execution_count": 17,
      "outputs": [
        {
          "output_type": "execute_result",
          "data": {
            "text/plain": [
              "array([[ 794,    4],\n",
              "       [   0, 2314]])"
            ]
          },
          "metadata": {
            "tags": []
          },
          "execution_count": 17
        }
      ]
    },
    {
      "cell_type": "code",
      "metadata": {
        "id": "KMQeOs-5InnA",
        "colab_type": "code",
        "outputId": "d55c53e6-83fc-4e88-914d-987ddf132894",
        "colab": {
          "base_uri": "https://localhost:8080/",
          "height": 51
        }
      },
      "source": [
        "confusion_matrix(y_true = y_test, y_pred = y_pred_test)"
      ],
      "execution_count": 0,
      "outputs": [
        {
          "output_type": "execute_result",
          "data": {
            "text/plain": [
              "array([[225,   9],\n",
              "       [  3, 801]])"
            ]
          },
          "metadata": {
            "tags": []
          },
          "execution_count": 22
        }
      ]
    },
    {
      "cell_type": "code",
      "metadata": {
        "id": "pg8fqbfBI3aK",
        "colab_type": "code",
        "colab": {}
      },
      "source": [
        ""
      ],
      "execution_count": 0,
      "outputs": []
    }
  ]
}