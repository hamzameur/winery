{
  "nbformat": 4,
  "nbformat_minor": 0,
  "metadata": {
    "colab": {
      "name": "zo3_color_classification.ipynb",
      "version": "0.3.2",
      "provenance": [],
      "collapsed_sections": []
    },
    "kernelspec": {
      "name": "python3",
      "display_name": "Python 3"
    }
  },
  "cells": [
    {
      "cell_type": "code",
      "metadata": {
        "id": "t5sL8BBTHB2B",
        "colab_type": "code",
        "colab": {}
      },
      "source": [
        "import pandas as pd\n",
        "import numpy as np\n",
        "from plotly.offline import init_notebook_mode, iplot\n",
        "from plotly import graph_objs as go"
      ],
      "execution_count": 0,
      "outputs": []
    },
    {
      "cell_type": "code",
      "metadata": {
        "id": "BtzhWuxMHKQk",
        "colab_type": "code",
        "colab": {}
      },
      "source": [
        "df = pd.read_csv('training_dataset.csv')"
      ],
      "execution_count": 0,
      "outputs": []
    },
    {
      "cell_type": "code",
      "metadata": {
        "id": "JlIbeAwYHNr6",
        "colab_type": "code",
        "outputId": "5e14473b-6b56-4155-bb68-765ea29f9cda",
        "colab": {
          "base_uri": "https://localhost:8080/",
          "height": 221
        }
      },
      "source": [
        "df.head()"
      ],
      "execution_count": 21,
      "outputs": [
        {
          "output_type": "execute_result",
          "data": {
            "text/html": [
              "<div>\n",
              "<style scoped>\n",
              "    .dataframe tbody tr th:only-of-type {\n",
              "        vertical-align: middle;\n",
              "    }\n",
              "\n",
              "    .dataframe tbody tr th {\n",
              "        vertical-align: top;\n",
              "    }\n",
              "\n",
              "    .dataframe thead th {\n",
              "        text-align: right;\n",
              "    }\n",
              "</style>\n",
              "<table border=\"1\" class=\"dataframe\">\n",
              "  <thead>\n",
              "    <tr style=\"text-align: right;\">\n",
              "      <th></th>\n",
              "      <th>wine number</th>\n",
              "      <th>acidity type 1</th>\n",
              "      <th>acidity type 2</th>\n",
              "      <th>citric acid</th>\n",
              "      <th>residual sugar</th>\n",
              "      <th>chlorides</th>\n",
              "      <th>sulfur dioxide type 1</th>\n",
              "      <th>sulfur dioxide type 2</th>\n",
              "      <th>pH</th>\n",
              "      <th>sulphates</th>\n",
              "      <th>alcohol</th>\n",
              "      <th>density</th>\n",
              "      <th>color</th>\n",
              "      <th>quality</th>\n",
              "    </tr>\n",
              "  </thead>\n",
              "  <tbody>\n",
              "    <tr>\n",
              "      <th>0</th>\n",
              "      <td>1</td>\n",
              "      <td>5.8</td>\n",
              "      <td>0.13</td>\n",
              "      <td>0.22</td>\n",
              "      <td>12.7</td>\n",
              "      <td>0.058</td>\n",
              "      <td>24.0</td>\n",
              "      <td>183.0</td>\n",
              "      <td>3.32</td>\n",
              "      <td>0.42</td>\n",
              "      <td>11.7</td>\n",
              "      <td>0.99560</td>\n",
              "      <td>W</td>\n",
              "      <td>6</td>\n",
              "    </tr>\n",
              "    <tr>\n",
              "      <th>1</th>\n",
              "      <td>2</td>\n",
              "      <td>8.4</td>\n",
              "      <td>0.62</td>\n",
              "      <td>0.12</td>\n",
              "      <td>1.8</td>\n",
              "      <td>0.072</td>\n",
              "      <td>38.0</td>\n",
              "      <td>46.0</td>\n",
              "      <td>3.38</td>\n",
              "      <td>0.89</td>\n",
              "      <td>11.8</td>\n",
              "      <td>0.99504</td>\n",
              "      <td>R</td>\n",
              "      <td>6</td>\n",
              "    </tr>\n",
              "    <tr>\n",
              "      <th>2</th>\n",
              "      <td>3</td>\n",
              "      <td>6.6</td>\n",
              "      <td>0.26</td>\n",
              "      <td>0.38</td>\n",
              "      <td>6.5</td>\n",
              "      <td>0.170</td>\n",
              "      <td>68.0</td>\n",
              "      <td>201.0</td>\n",
              "      <td>3.19</td>\n",
              "      <td>0.38</td>\n",
              "      <td>9.4</td>\n",
              "      <td>0.99560</td>\n",
              "      <td>W</td>\n",
              "      <td>6</td>\n",
              "    </tr>\n",
              "    <tr>\n",
              "      <th>3</th>\n",
              "      <td>4</td>\n",
              "      <td>6.9</td>\n",
              "      <td>0.32</td>\n",
              "      <td>0.16</td>\n",
              "      <td>1.4</td>\n",
              "      <td>0.051</td>\n",
              "      <td>15.0</td>\n",
              "      <td>96.0</td>\n",
              "      <td>3.22</td>\n",
              "      <td>0.38</td>\n",
              "      <td>9.5</td>\n",
              "      <td>0.99400</td>\n",
              "      <td>W</td>\n",
              "      <td>4</td>\n",
              "    </tr>\n",
              "    <tr>\n",
              "      <th>4</th>\n",
              "      <td>5</td>\n",
              "      <td>6.5</td>\n",
              "      <td>0.41</td>\n",
              "      <td>0.64</td>\n",
              "      <td>11.8</td>\n",
              "      <td>0.065</td>\n",
              "      <td>65.0</td>\n",
              "      <td>225.0</td>\n",
              "      <td>3.12</td>\n",
              "      <td>0.51</td>\n",
              "      <td>8.9</td>\n",
              "      <td>0.99780</td>\n",
              "      <td>W</td>\n",
              "      <td>5</td>\n",
              "    </tr>\n",
              "  </tbody>\n",
              "</table>\n",
              "</div>"
            ],
            "text/plain": [
              "   wine number  acidity type 1  acidity type 2  ...  density  color  quality\n",
              "0            1             5.8            0.13  ...  0.99560      W        6\n",
              "1            2             8.4            0.62  ...  0.99504      R        6\n",
              "2            3             6.6            0.26  ...  0.99560      W        6\n",
              "3            4             6.9            0.32  ...  0.99400      W        4\n",
              "4            5             6.5            0.41  ...  0.99780      W        5\n",
              "\n",
              "[5 rows x 14 columns]"
            ]
          },
          "metadata": {
            "tags": []
          },
          "execution_count": 21
        }
      ]
    },
    {
      "cell_type": "code",
      "metadata": {
        "id": "tOIm_MXtHQdc",
        "colab_type": "code",
        "colab": {}
      },
      "source": [
        "explanatory_variables = ['acidity type 1', 'acidity type 2', 'citric acid', 'residual sugar', 'chlorides', 'sulfur dioxide type 1', 'sulfur dioxide type 2', 'pH', 'sulphates', 'alcohol']\n",
        "pred_vars = ['quality']"
      ],
      "execution_count": 0,
      "outputs": []
    },
    {
      "cell_type": "code",
      "metadata": {
        "id": "jd9JfL4fHcfn",
        "colab_type": "code",
        "outputId": "9b563ab7-0f1a-46ea-8d0d-2604823c8913",
        "colab": {
          "base_uri": "https://localhost:8080/",
          "height": 51
        }
      },
      "source": [
        "X = df[explanatory_variables].values\n",
        "y = df[pred_vars].values\n",
        "\n",
        "print(\"X.shape = \", X.shape)\n",
        "print(\"y.shape = \", y.shape)"
      ],
      "execution_count": 24,
      "outputs": [
        {
          "output_type": "stream",
          "text": [
            "X.shape =  (4150, 10)\n",
            "y.shape =  (4150, 1)\n"
          ],
          "name": "stdout"
        }
      ]
    },
    {
      "cell_type": "code",
      "metadata": {
        "id": "MAtAOQp7Hiu2",
        "colab_type": "code",
        "outputId": "f046ff81-6e5b-4dd0-c080-18e4a8dad2e8",
        "colab": {
          "base_uri": "https://localhost:8080/",
          "height": 85
        }
      },
      "source": [
        "from sklearn.model_selection import train_test_split\n",
        "\n",
        "seed = 100\n",
        "\n",
        "X_train, X_test, y_train, y_test = train_test_split(X, y, random_state = seed)\n",
        "\n",
        "\n",
        "print(\"X_train.shape = \", X_train.shape)\n",
        "print(\"y_train.shape = \", y_train.shape)\n",
        "print(\"X_test.shape = \", X_test.shape)\n",
        "print(\"y_test.shape = \", y_test.shape)"
      ],
      "execution_count": 38,
      "outputs": [
        {
          "output_type": "stream",
          "text": [
            "X_train.shape =  (3112, 10)\n",
            "y_train.shape =  (3112, 1)\n",
            "X_test.shape =  (1038, 10)\n",
            "y_test.shape =  (1038, 1)\n"
          ],
          "name": "stdout"
        }
      ]
    },
    {
      "cell_type": "code",
      "metadata": {
        "id": "w1a4XsDEHm5B",
        "colab_type": "code",
        "colab": {}
      },
      "source": [
        "from sklearn.ensemble import RandomForestClassifier"
      ],
      "execution_count": 0,
      "outputs": []
    },
    {
      "cell_type": "code",
      "metadata": {
        "id": "PtdnLJgqHtd4",
        "colab_type": "code",
        "colab": {}
      },
      "source": [
        "max_depth = 10\n",
        "n_estimators = 100\n",
        "\n",
        "classifier = RandomForestClassifier(n_estimators=n_estimators, max_depth=max_depth, n_jobs=-1, random_state=seed)"
      ],
      "execution_count": 0,
      "outputs": []
    },
    {
      "cell_type": "code",
      "metadata": {
        "id": "ptLVQJhzHyH3",
        "colab_type": "code",
        "outputId": "59453689-6258-47d9-b8da-eef40692d65d",
        "colab": {
          "base_uri": "https://localhost:8080/",
          "height": 204
        }
      },
      "source": [
        "classifier.fit(X_train, y_train)"
      ],
      "execution_count": 41,
      "outputs": [
        {
          "output_type": "stream",
          "text": [
            "/usr/local/lib/python3.6/dist-packages/ipykernel_launcher.py:1: DataConversionWarning:\n",
            "\n",
            "A column-vector y was passed when a 1d array was expected. Please change the shape of y to (n_samples,), for example using ravel().\n",
            "\n"
          ],
          "name": "stderr"
        },
        {
          "output_type": "execute_result",
          "data": {
            "text/plain": [
              "RandomForestClassifier(bootstrap=True, class_weight=None, criterion='gini',\n",
              "                       max_depth=10, max_features='auto', max_leaf_nodes=None,\n",
              "                       min_impurity_decrease=0.0, min_impurity_split=None,\n",
              "                       min_samples_leaf=1, min_samples_split=2,\n",
              "                       min_weight_fraction_leaf=0.0, n_estimators=100,\n",
              "                       n_jobs=-1, oob_score=False, random_state=100, verbose=0,\n",
              "                       warm_start=False)"
            ]
          },
          "metadata": {
            "tags": []
          },
          "execution_count": 41
        }
      ]
    },
    {
      "cell_type": "code",
      "metadata": {
        "id": "ll9L8aSUH47b",
        "colab_type": "code",
        "colab": {}
      },
      "source": [
        "y_pred_train = classifier.predict(X_train)\n",
        "y_pred_test = classifier.predict(X_test)"
      ],
      "execution_count": 0,
      "outputs": []
    },
    {
      "cell_type": "code",
      "metadata": {
        "id": "FHnanBppIATI",
        "colab_type": "code",
        "colab": {}
      },
      "source": [
        "from sklearn.metrics import classification_report, confusion_matrix"
      ],
      "execution_count": 0,
      "outputs": []
    },
    {
      "cell_type": "code",
      "metadata": {
        "id": "3tN5VksOIHHL",
        "colab_type": "code",
        "colab": {
          "base_uri": "https://localhost:8080/",
          "height": 85
        },
        "outputId": "a6f89f68-af3c-43ef-949c-34b476475d2a"
      },
      "source": [
        "train_report = classification_report(y_true=y_train, y_pred = y_pred_train)\n",
        "test_report = classification_report(y_true=y_test, y_pred = y_pred_test)"
      ],
      "execution_count": 44,
      "outputs": [
        {
          "output_type": "stream",
          "text": [
            "/usr/local/lib/python3.6/dist-packages/sklearn/metrics/classification.py:1437: UndefinedMetricWarning:\n",
            "\n",
            "Precision and F-score are ill-defined and being set to 0.0 in labels with no predicted samples.\n",
            "\n"
          ],
          "name": "stderr"
        }
      ]
    },
    {
      "cell_type": "code",
      "metadata": {
        "id": "U2fsyHcHITea",
        "colab_type": "code",
        "outputId": "8e3ffb5e-1522-4098-b5f4-782dac707da0",
        "colab": {
          "base_uri": "https://localhost:8080/",
          "height": 255
        }
      },
      "source": [
        "print(train_report)"
      ],
      "execution_count": 45,
      "outputs": [
        {
          "output_type": "stream",
          "text": [
            "              precision    recall  f1-score   support\n",
            "\n",
            "           3       1.00      0.50      0.67        14\n",
            "           4       1.00      0.49      0.66        98\n",
            "           5       0.88      0.89      0.89      1035\n",
            "           6       0.81      0.94      0.87      1350\n",
            "           7       0.95      0.74      0.83       514\n",
            "           8       1.00      0.43      0.61        99\n",
            "           9       0.00      0.00      0.00         2\n",
            "\n",
            "    accuracy                           0.86      3112\n",
            "   macro avg       0.81      0.57      0.65      3112\n",
            "weighted avg       0.87      0.86      0.85      3112\n",
            "\n"
          ],
          "name": "stdout"
        }
      ]
    },
    {
      "cell_type": "code",
      "metadata": {
        "id": "UcyplqdMIVOc",
        "colab_type": "code",
        "outputId": "2dccc598-2898-4cd1-a347-f837b4f1622f",
        "colab": {
          "base_uri": "https://localhost:8080/",
          "height": 255
        }
      },
      "source": [
        "print(test_report)"
      ],
      "execution_count": 46,
      "outputs": [
        {
          "output_type": "stream",
          "text": [
            "              precision    recall  f1-score   support\n",
            "\n",
            "           3       0.00      0.00      0.00         4\n",
            "           4       1.00      0.03      0.05        37\n",
            "           5       0.71      0.65      0.68       356\n",
            "           6       0.57      0.80      0.67       440\n",
            "           7       0.73      0.36      0.48       171\n",
            "           8       1.00      0.17      0.29        29\n",
            "           9       0.00      0.00      0.00         1\n",
            "\n",
            "    accuracy                           0.63      1038\n",
            "   macro avg       0.57      0.29      0.31      1038\n",
            "weighted avg       0.67      0.63      0.60      1038\n",
            "\n"
          ],
          "name": "stdout"
        }
      ]
    },
    {
      "cell_type": "code",
      "metadata": {
        "id": "rAfaSc4LIZD4",
        "colab_type": "code",
        "outputId": "ee557906-9ec7-4516-c16f-f6845a7b3c49",
        "colab": {
          "base_uri": "https://localhost:8080/",
          "height": 136
        }
      },
      "source": [
        "confusion_matrix(y_true=y_train, y_pred = y_pred_train)"
      ],
      "execution_count": 47,
      "outputs": [
        {
          "output_type": "execute_result",
          "data": {
            "text/plain": [
              "array([[   7,    0,    5,    2,    0,    0,    0],\n",
              "       [   0,   48,   30,   20,    0,    0,    0],\n",
              "       [   0,    0,  923,  109,    3,    0,    0],\n",
              "       [   0,    0,   80, 1266,    4,    0,    0],\n",
              "       [   0,    0,    5,  129,  380,    0,    0],\n",
              "       [   0,    0,    0,   44,   12,   43,    0],\n",
              "       [   0,    0,    0,    1,    1,    0,    0]])"
            ]
          },
          "metadata": {
            "tags": []
          },
          "execution_count": 47
        }
      ]
    },
    {
      "cell_type": "code",
      "metadata": {
        "id": "KMQeOs-5InnA",
        "colab_type": "code",
        "outputId": "53fe8f76-ae54-4367-a285-e6b236e57129",
        "colab": {
          "base_uri": "https://localhost:8080/",
          "height": 136
        }
      },
      "source": [
        "confusion_matrix(y_true = y_test, y_pred = y_pred_test)"
      ],
      "execution_count": 48,
      "outputs": [
        {
          "output_type": "execute_result",
          "data": {
            "text/plain": [
              "array([[  0,   0,   1,   3,   0,   0,   0],\n",
              "       [  1,   1,  18,  17,   0,   0,   0],\n",
              "       [  0,   0, 231, 125,   0,   0,   0],\n",
              "       [  0,   0,  69, 354,  17,   0,   0],\n",
              "       [  0,   0,   6, 104,  61,   0,   0],\n",
              "       [  0,   0,   0,  18,   6,   5,   0],\n",
              "       [  0,   0,   0,   1,   0,   0,   0]])"
            ]
          },
          "metadata": {
            "tags": []
          },
          "execution_count": 48
        }
      ]
    },
    {
      "cell_type": "code",
      "metadata": {
        "id": "qzHYF7zY0N9X",
        "colab_type": "code",
        "colab": {}
      },
      "source": [
        ""
      ],
      "execution_count": 0,
      "outputs": []
    }
  ]
}